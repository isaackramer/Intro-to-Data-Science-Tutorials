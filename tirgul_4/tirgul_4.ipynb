{
 "cells": [
  {
   "cell_type": "markdown",
   "metadata": {},
   "source": [
    "# Tirgul 4\n",
    "\n",
    "## Topics\n",
    "* Standard error vs. Standard deviation\n",
    "* Boostrapping\n",
    "* Confidence Intervals\n",
    "* Hypothesis testing\n",
    "* The scipy.stats library"
   ]
  },
  {
   "cell_type": "markdown",
   "metadata": {},
   "source": [
    "## Standard error vs. standard deviation"
   ]
  },
  {
   "cell_type": "code",
   "execution_count": 2,
   "metadata": {},
   "outputs": [],
   "source": [
    "import numpy as np\n",
    "import seaborn as sns\n",
    "sns.set_theme(style=\"whitegrid\")"
   ]
  },
  {
   "cell_type": "markdown",
   "metadata": {},
   "source": [
    "Let's define a \"population\" of size 1,000,000. Each member of the population will be a number from the standard normal distribution"
   ]
  },
  {
   "cell_type": "code",
   "execution_count": 3,
   "metadata": {},
   "outputs": [],
   "source": [
    "population = np.random.randn(1000000)"
   ]
  },
  {
   "cell_type": "markdown",
   "metadata": {},
   "source": [
    "What's the population's mean and standard deviation?\n"
   ]
  },
  {
   "cell_type": "code",
   "execution_count": 4,
   "metadata": {},
   "outputs": [
    {
     "name": "stdout",
     "output_type": "stream",
     "text": [
      "The mean value is 0.0004394953127689071 and the standard deviation is 1.001743198722191\n"
     ]
    }
   ],
   "source": [
    "mean_value = population.mean()\n",
    "std = population.std()\n",
    "print(f\"The mean value is {mean_value} and the standard deviation is {std}\")"
   ]
  },
  {
   "cell_type": "markdown",
   "metadata": {},
   "source": [
    "What does the distribution of the population look like?\n"
   ]
  },
  {
   "cell_type": "code",
   "execution_count": 5,
   "metadata": {},
   "outputs": [
    {
     "data": {
      "text/plain": [
       "<seaborn.axisgrid.FacetGrid at 0x7fb1722c0a90>"
      ]
     },
     "execution_count": 5,
     "metadata": {},
     "output_type": "execute_result"
    },
    {
     "data": {
      "image/png": "[encoded data removed]",
      "text/plain": [
       "<Figure size 360x360 with 1 Axes>"
      ]
     },
     "metadata": {},
     "output_type": "display_data"
    }
   ],
   "source": [
    "sns.displot(population)"
   ]
  },
  {
   "cell_type": "markdown",
   "metadata": {},
   "source": [
    "If this were the real world, sampling 1,000,000 people would be difficult. Let's say that our budget allowed us to sample only 100 people at a time. How can we simulate that?"
   ]
  },
  {
   "cell_type": "code",
   "execution_count": 6,
   "metadata": {},
   "outputs": [],
   "source": [
    "sample_size = 100\n",
    "sample_100 = np.random.choice(population, sample_size)"
   ]
  },
  {
   "cell_type": "markdown",
   "metadata": {},
   "source": [
    "What's the sample's mean and standard deviation?\n"
   ]
  },
  {
   "cell_type": "code",
   "execution_count": 7,
   "metadata": {},
   "outputs": [
    {
     "name": "stdout",
     "output_type": "stream",
     "text": [
      "The mean value is 0.06066109994470912 and the standard deviation is 1.0146472144491963\n"
     ]
    }
   ],
   "source": [
    "mean_100 = sample_100.mean()\n",
    "std_100 = sample_100.std()\n",
    "print(f\"The mean value is {mean_100} and the standard deviation is {std_100}\")"
   ]
  },
  {
   "cell_type": "markdown",
   "metadata": {},
   "source": [
    "Notice that our sample's mean value is pretty different from that of the population. What if we take a bigger sample size?"
   ]
  },
  {
   "cell_type": "code",
   "execution_count": 8,
   "metadata": {},
   "outputs": [
    {
     "name": "stdout",
     "output_type": "stream",
     "text": [
      "The mean value is 0.04000283657241053 and the standard deviation is 1.0347495384409022\n"
     ]
    }
   ],
   "source": [
    "sample_size = 1000\n",
    "sample_1000 = np.random.choice(population, sample_size)\n",
    "mean_1000 = sample_1000.mean()\n",
    "std_1000 = sample_1000.std()\n",
    "print(f\"The mean value is {mean_1000} and the standard deviation is {std_1000}\")"
   ]
  },
  {
   "cell_type": "markdown",
   "metadata": {},
   "source": [
    "Or smaller..."
   ]
  },
  {
   "cell_type": "code",
   "execution_count": 9,
   "metadata": {},
   "outputs": [
    {
     "name": "stdout",
     "output_type": "stream",
     "text": [
      "The mean value is 0.28918644008400884 and the standard deviation is 0.7961236350470582\n"
     ]
    }
   ],
   "source": [
    "sample_size = 5\n",
    "sample_5 = np.random.choice(population, sample_size)\n",
    "mean_5 = sample_5.mean()\n",
    "std_5 = sample_5.std()\n",
    "print(f\"The mean value is {mean_5} and the standard deviation is {std_5}\")"
   ]
  },
  {
   "cell_type": "markdown",
   "metadata": {},
   "source": [
    "The standard error of the mean ($SE$) measures the precision of the estimate of the sample mean. We can use the formula $SE = \\sigma/\\sqrt n$.\n",
    "\n",
    "* $\\sigma$ = the standard deviation of the sample\n",
    "* $n$ = the sample size\n",
    "\n",
    "Now we can compare our standard errors using the different sample sizes.\n"
   ]
  },
  {
   "cell_type": "code",
   "execution_count": 10,
   "metadata": {},
   "outputs": [
    {
     "name": "stdout",
     "output_type": "stream",
     "text": [
      "The standard error of the mean when the sample size was 5 was 0.3560373132918912\n",
      "The standard error of the mean when the sample size was 100 was 0.10146472144491962\n",
      "The standard error of the mean when the sample size was 1000 was 0.032721653492812065\n"
     ]
    }
   ],
   "source": [
    "se_5 = std_5/np.sqrt(5)\n",
    "se_100 = std_100/np.sqrt(100)\n",
    "se_1000 = std_1000/np.sqrt(1000)\n",
    "\n",
    "print(f\"The standard error of the mean when the sample size was 5 was {se_5}\")\n",
    "print(f\"The standard error of the mean when the sample size was 100 was {se_100}\")\n",
    "print(f\"The standard error of the mean when the sample size was 1000 was {se_1000}\")"
   ]
  },
  {
   "cell_type": "markdown",
   "metadata": {},
   "source": [
    "# Bootstrapping\n",
    "\n",
    "From Wikipedia:\n",
    "\n",
    "The basic idea of bootstrapping is that inference about a population from sample data (sample → population) can be modelled by resampling the sample data and performing inference about a sample from resampled data (resampled → sample). As the population is unknown, the true error in a sample statistic against its population value is unknown. In bootstrap-resamples, the 'population' is in fact the sample, and this is known; hence the quality of inference of the 'true' sample from resampled data (resampled → sample) is measurable.\n",
    "\n",
    "More formally, the bootstrap works by treating inference of the true probability distribution J, given the original data, as being analogous to inference of the empirical distribution Ĵ, given the resampled data. The accuracy of inferences regarding Ĵ using the resampled data can be assessed because we know Ĵ. If Ĵ is a reasonable approximation to J, then the quality of inference on J can in turn be inferred.\n",
    "\n",
    "As an example, assume we are interested in the average (or mean) height of people worldwide. We cannot measure all the people in the global population, so instead we sample only a tiny part of it, and measure that. Assume the sample is of size N; that is, we measure the heights of N individuals. From that single sample, only one estimate of the mean can be obtained. In order to reason about the population, we need some sense of the variability of the mean that we have computed. The simplest bootstrap method involves taking the original data set of heights, and, using a computer, sampling from it to form a new sample (called a 'resample' or bootstrap sample) that is also of size N. The bootstrap sample is taken from the original by using sampling with replacement (e.g. we might 'resample' 5 times from [1,2,3,4,5] and get [2,5,4,4,1]), so, assuming N is sufficiently large, for all practical purposes there is virtually zero probability that it will be identical to the original \"real\" sample. This process is repeated a large number of times (typically 1,000 or 10,000 times), and for each of these bootstrap samples we compute its mean (each of these are called bootstrap estimates). We now can create a histogram of bootstrap means. This histogram provides an estimate of the shape of the distribution of the sample mean from which we can answer questions about how much the mean varies across samples. (The method here, described for the mean, can be applied to almost any other statistic or estimator.)"
   ]
  },
  {
   "cell_type": "markdown",
   "metadata": {},
   "source": [
    "Let's create a numpy array to represent heights of female students at the Faculta\n"
   ]
  },
  {
   "cell_type": "code",
   "execution_count": 11,
   "metadata": {},
   "outputs": [
    {
     "name": "stdout",
     "output_type": "stream",
     "text": [
      "The population's mean value is 162.30632630702277 and the standard deviation is 5.382994142610448\n"
     ]
    }
   ],
   "source": [
    "np.random.seed(42)\n",
    "mean = 162.2\n",
    "std = 5.5\n",
    "sample_size = 1000\n",
    "heights = np.random.normal(loc=mean, \n",
    "                           scale=std, \n",
    "                           size=sample_size)\n",
    "\n",
    "# sample mean\n",
    "mean_value = heights.mean()\n",
    "\n",
    "# population standard deviation\n",
    "std = heights.std()\n",
    "\n",
    "print(f\"The population's mean value is {mean_value} and the standard deviation is {std}\")\n"
   ]
  },
  {
   "cell_type": "markdown",
   "metadata": {},
   "source": [
    "Now we can construct a simulated sampling distribution"
   ]
  },
  {
   "cell_type": "code",
   "execution_count": 12,
   "metadata": {},
   "outputs": [],
   "source": [
    "boot_straps = 1000\n",
    "sample_means = np.zeros(boot_straps)\n",
    "for ii in range(boot_straps):\n",
    "    sample = np.random.choice(heights, \n",
    "                              size=sample_size,\n",
    "                              replace=True)\n",
    "    sample_means[ii]= sample.mean()"
   ]
  },
  {
   "cell_type": "code",
   "execution_count": 13,
   "metadata": {},
   "outputs": [
    {
     "name": "stdout",
     "output_type": "stream",
     "text": [
      "The standard error of the mean calculated using bootstrapping is: 0.171\n"
     ]
    }
   ],
   "source": [
    "# now we can find the standard deviation of the means\n",
    "se_mean_height_bootstrap = sample_means.std()\n",
    "print(f\"The standard error of the mean calculated using bootstrapping is: {se_mean_height_bootstrap:.3f}\")"
   ]
  },
  {
   "cell_type": "markdown",
   "metadata": {},
   "source": [
    "For the mean, it is also possible to estimate the SE of the mean by dividing the STD of the *values* by by the sqrt of the sample size. (see below).  \n",
    "For other statistics, such as the median, there is no such analyitical formula. The utility of the bootstrap is in estimating the SE of these other statistics."
   ]
  },
  {
   "cell_type": "code",
   "execution_count": 14,
   "metadata": {},
   "outputs": [
    {
     "name": "stdout",
     "output_type": "stream",
     "text": [
      "The standard error of the mean calculated using the analytical formula is: 0.170\n"
     ]
    }
   ],
   "source": [
    "se_mean_height_analytical = heights.std()/np.sqrt(sample_size)\n",
    "print(f\"The standard error of the mean calculated using the analytical formula is: {se_mean_height_analytical:.3f}\")"
   ]
  },
  {
   "cell_type": "markdown",
   "metadata": {},
   "source": [
    "## Confidence Intervals\n",
    "\n",
    "We can also compute the confidence interval for our estimate of the mean. Let's say we want the 90 percent confidence interval.\n"
   ]
  },
  {
   "cell_type": "code",
   "execution_count": 15,
   "metadata": {},
   "outputs": [],
   "source": [
    "conf_level = 0.9\n",
    "low_bound = (1-conf_level)/2\n",
    "up_bound = (1+conf_level)/2\n",
    "CI = (np.quantile(sample_means, low_bound),\n",
    "      np.quantile(sample_means, up_bound)) "
   ]
  },
  {
   "cell_type": "code",
   "execution_count": 16,
   "metadata": {},
   "outputs": [
    {
     "name": "stdout",
     "output_type": "stream",
     "text": [
      "The lower bound of the confidence interval is: 162.0416357693033\n",
      "The upper bound of the confidence interval is: 162.6010277719378\n"
     ]
    }
   ],
   "source": [
    "print(f\"The lower bound of the confidence interval is: {CI[0]}\")\n",
    "print(f\"The upper bound of the confidence interval is: {CI[1]}\")"
   ]
  },
  {
   "cell_type": "markdown",
   "metadata": {},
   "source": [
    "### The scipy.stats library\n",
    "\n",
    "Hint: This library was useful for last year's homework"
   ]
  },
  {
   "cell_type": "code",
   "execution_count": 17,
   "metadata": {},
   "outputs": [],
   "source": [
    "# import the library\n",
    "import scipy.stats"
   ]
  },
  {
   "cell_type": "markdown",
   "metadata": {},
   "source": [
    "Make a distribution with mean 0 and standard deviation 1. \n",
    "Note: location (loc) keyword specifies the mean; scale (scale) keyword specifies the standard deviation."
   ]
  },
  {
   "cell_type": "code",
   "execution_count": 18,
   "metadata": {},
   "outputs": [
    {
     "data": {
      "text/plain": [
       "<scipy.stats._distn_infrastructure.rv_frozen at 0x7fb17814b970>"
      ]
     },
     "execution_count": 18,
     "metadata": {},
     "output_type": "execute_result"
    }
   ],
   "source": [
    "scipy.stats.norm(loc=0, scale=1)"
   ]
  },
  {
   "cell_type": "markdown",
   "metadata": {},
   "source": [
    "The function also has methods, such as the pdf \n"
   ]
  },
  {
   "cell_type": "code",
   "execution_count": 19,
   "metadata": {},
   "outputs": [
    {
     "data": {
      "text/plain": [
       "0.3989422804014327"
      ]
     },
     "execution_count": 19,
     "metadata": {},
     "output_type": "execute_result"
    }
   ],
   "source": [
    "scipy.stats.norm(0, 1).pdf(0)"
   ]
  },
  {
   "cell_type": "code",
   "execution_count": 20,
   "metadata": {},
   "outputs": [
    {
     "data": {
      "text/plain": [
       "0.5"
      ]
     },
     "execution_count": 20,
     "metadata": {},
     "output_type": "execute_result"
    }
   ],
   "source": [
    "# and cdf\n",
    "scipy.stats.norm(0, 1).cdf(0)"
   ]
  },
  {
   "cell_type": "markdown",
   "metadata": {},
   "source": [
    "## Can you bootsrap confidence interval for the median?"
   ]
  }
 ],
 "metadata": {
  "kernelspec": {
   "display_name": "Python 3",
   "language": "python",
   "name": "python3"
  },
  "language_info": {
   "codemirror_mode": {
    "name": "ipython",
    "version": 3
   },
   "file_extension": ".py",
   "mimetype": "text/x-python",
   "name": "python",
   "nbconvert_exporter": "python",
   "pygments_lexer": "ipython3",
   "version": "3.8.5"
  }
 },
 "nbformat": 4,
 "nbformat_minor": 4
}
