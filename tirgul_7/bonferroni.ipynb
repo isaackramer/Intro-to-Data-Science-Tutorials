{
 "cells": [
  {
   "cell_type": "markdown",
   "metadata": {},
   "source": [
    "# Topics\n",
    "\n",
    "Bonferroni correction for multiple hypotheses"
   ]
  },
  {
   "cell_type": "markdown",
   "metadata": {},
   "source": [
    "## 3. Bonferroni correction for multiple hypotheses\n",
    "\n",
    "The Bonferroni correction is a multiple-comparison correction used when several dependent or independent statistical tests are being performed simultaneously (since while a given alpha value alpha may be appropriate for each individual comparison, it is not for the set of all comparisons). In order to avoid a lot of spurious positives, the alpha value needs to be lowered to account for the number of comparisons being performed.\n",
    "\n",
    "In multiple hypothesis testing there are two kinds of errors that must be to considered:\n",
    "1. Type I error: The rejection of a true null hypothesis (also known as a \"false positive\" finding or conclusion; example: \"an innocent person is convicted\")\n",
    "2. Type II error (False negative): The non-rejection of a false null hypothesis (also known as a \"false negative\" finding or conclusion; example: \"a guilty person is not convicted\"\n",
    "\n",
    "https://mathworld.wolfram.com/BonferroniCorrection.html"
   ]
  },
  {
   "cell_type": "markdown",
   "metadata": {},
   "source": [
    "### Example from gene editing\n",
    "\n",
    "Background: A researcher analyzes thousands of genese to identify \"differentially expressed genes\" between two groups (e.g., normal vs. treated), which could alter biological mechanisms of a species in response to a particular treatment.\n",
    "\n",
    "If we analyze 10,000 results with a signifance level of 0.05, then we should expect hundreds of false positives.\n",
    "\n",
    "To control false discoveries from multiple hypothesis testing, it is imperative to adjust the significance level (α) to reduce the probability of getting Type I error.\n",
    "\n",
    "https://www.reneshbedre.com/blog/multiple-hypothesis-testing-corrections.html"
   ]
  },
  {
   "cell_type": "markdown",
   "metadata": {},
   "source": [
    "Import packages"
   ]
  },
  {
   "cell_type": "code",
   "execution_count": null,
   "metadata": {},
   "outputs": [],
   "source": [
    "import numpy as np\n",
    "from statsmodels.stats.multitest import multipletests"
   ]
  },
  {
   "cell_type": "markdown",
   "metadata": {},
   "source": [
    "Generate 500 random p-values\n"
   ]
  },
  {
   "cell_type": "code",
   "execution_count": null,
   "metadata": {},
   "outputs": [],
   "source": [
    "rand_num = np.random.random(500)"
   ]
  },
  {
   "cell_type": "markdown",
   "metadata": {},
   "source": [
    "Set alpha value to 0.05"
   ]
  },
  {
   "cell_type": "code",
   "execution_count": null,
   "metadata": {},
   "outputs": [],
   "source": [
    "# alpha value\n",
    "alpha = 0.05"
   ]
  },
  {
   "cell_type": "markdown",
   "metadata": {},
   "source": [
    "What would happen if we didn't correct alpha value?"
   ]
  },
  {
   "cell_type": "code",
   "execution_count": null,
   "metadata": {},
   "outputs": [],
   "source": [
    "# without correction, how many times would we reject the null hypothesis?\n",
    "print(len(rand_num[np.where(rand_num<alpha)]))"
   ]
  },
  {
   "cell_type": "markdown",
   "metadata": {},
   "source": [
    "With Bonferroni correction "
   ]
  },
  {
   "cell_type": "code",
   "execution_count": null,
   "metadata": {},
   "outputs": [],
   "source": [
    "p_adjusted = multipletests(pvals=rand_num, alpha=alpha, method='bonferroni')\n",
    "print(len(p_adjusted[1][np.where(p_adjusted[1]<alpha)]))"
   ]
  },
  {
   "cell_type": "code",
   "execution_count": null,
   "metadata": {},
   "outputs": [],
   "source": []
  }
 ],
 "metadata": {
  "interpreter": {
   "hash": "c4f6be21fc92d2a00f9ca51bcfc707caddf6cb807b3396ca594a2548e90cdcf4"
  },
  "kernelspec": {
   "display_name": "Python 3.8.5 ('base')",
   "language": "python",
   "name": "python3"
  },
  "language_info": {
   "codemirror_mode": {
    "name": "ipython",
    "version": 3
   },
   "file_extension": ".py",
   "mimetype": "text/x-python",
   "name": "python",
   "nbconvert_exporter": "python",
   "pygments_lexer": "ipython3",
   "version": "3.8.5"
  }
 },
 "nbformat": 4,
 "nbformat_minor": 4
}
