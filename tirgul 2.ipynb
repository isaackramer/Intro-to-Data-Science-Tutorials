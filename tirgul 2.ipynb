{
 "cells": [
  {
   "cell_type": "markdown",
   "metadata": {},
   "source": [
    "# Topics for Tutorial 2\n",
    "\n",
    "1. Univariate data \n",
    "2. Summary statistics\n",
    "3. Quantiles\n",
    "4. Histograms\n",
    "5. Bar charts\n",
    "6. Encoding categorical varaibles\n",
    "\n",
    "# Important Python Packages\n",
    "* Pandas\n",
    "* Seaborn\n",
    "* Matplotlib\n",
    "\n",
    "Join Zoom: https://huji.zoom.us/j/85064392593?pwd=Ymp0bXJRcXpCLzJkM2xHRi9BSHFvZz09"
   ]
  },
  {
   "cell_type": "code",
   "execution_count": null,
   "metadata": {},
   "outputs": [],
   "source": [
    "# import necessary packages\n",
    "import pandas as pd\n",
    "import seaborn as sns\n",
    "import matplotlib as plt"
   ]
  },
  {
   "cell_type": "markdown",
   "metadata": {},
   "source": [
    "### Today's datasets\n",
    "\n",
    "* City Temperatures -- Daily temperature for different international cities"
   ]
  },
  {
   "cell_type": "code",
   "execution_count": null,
   "metadata": {},
   "outputs": [],
   "source": [
    "# read CSV\n",
    "temp_df = pd.read_csv('city_temp.csv')"
   ]
  },
  {
   "cell_type": "code",
   "execution_count": null,
   "metadata": {},
   "outputs": [],
   "source": [
    "# examine the data -- in visual studio code we can also do this another way\n",
    "temp_df.head()"
   ]
  },
  {
   "cell_type": "code",
   "execution_count": null,
   "metadata": {},
   "outputs": [],
   "source": [
    "# which cities do we have data for\n",
    "temp_df.City.unique()"
   ]
  },
  {
   "cell_type": "code",
   "execution_count": null,
   "metadata": {},
   "outputs": [],
   "source": [
    "# isolate data from a single city (e.g., Tel Aviv)\n",
    "city = 'Tel Aviv'\n",
    "TA_temp = temp_df[temp_df.City == city]\n",
    "TA_temp"
   ]
  },
  {
   "cell_type": "code",
   "execution_count": null,
   "metadata": {
    "scrolled": true
   },
   "outputs": [],
   "source": [
    "# get summary statistics for a single city\n",
    "TA_temp.AvgTemperature.describe()"
   ]
  },
  {
   "cell_type": "code",
   "execution_count": null,
   "metadata": {},
   "outputs": [],
   "source": [
    "# eliminate data that doesn't make sense\n",
    "TA_temp = TA_temp.drop(TA_temp[TA_temp['AvgTemperature']<(-50)].index)"
   ]
  },
  {
   "cell_type": "code",
   "execution_count": null,
   "metadata": {},
   "outputs": [],
   "source": [
    "# convert to Celsius\n",
    "TA_temp['AvgTemp_C'] = (TA_temp['AvgTemperature'] - 32)*(5/9)"
   ]
  },
  {
   "cell_type": "code",
   "execution_count": null,
   "metadata": {},
   "outputs": [],
   "source": [
    "# get summary stasitics in Celsius\n",
    "TA_temp.AvgTemp_C.describe()"
   ]
  },
  {
   "cell_type": "code",
   "execution_count": null,
   "metadata": {},
   "outputs": [],
   "source": [
    "# get the mean for the city you chose\n",
    "mean_temp = TA_temp.AvgTemp_C.mean() \n",
    "print(f\"The mean temperature in {city} is: {mean_temp:.2f} degrees Celcius\")"
   ]
  },
  {
   "cell_type": "code",
   "execution_count": null,
   "metadata": {},
   "outputs": [],
   "source": [
    "# get the median temperature for the city you chose\n",
    "median_temp = TA_temp.AvgTemp_C.median() \n",
    "print(f\"The median temperature in {city} is: {median_temp:.2f} degrees Celcius\")"
   ]
  },
  {
   "cell_type": "code",
   "execution_count": null,
   "metadata": {},
   "outputs": [],
   "source": [
    "# get the 10th percentile for the city you chose\n",
    "percentile_10 = TA_temp.AvgTemp_C.quantile(.1) \n",
    "print(f\"The tenth percentile in {city} is: {percentile_10:.2f} degrees Celcius\")"
   ]
  },
  {
   "cell_type": "code",
   "execution_count": null,
   "metadata": {},
   "outputs": [],
   "source": [
    "# get the 90th percentile for the city you chose\n",
    "percentile_90 = TA_temp.AvgTemp_C.quantile(.9) \n",
    "print(f\"The ninetieth percentile in {city} is: {percentile_90:.2f} degrees Celcius\")"
   ]
  },
  {
   "cell_type": "code",
   "execution_count": null,
   "metadata": {},
   "outputs": [],
   "source": [
    "# begin plotting\n",
    "sns.set_theme(style=\"whitegrid\")"
   ]
  },
  {
   "cell_type": "code",
   "execution_count": null,
   "metadata": {},
   "outputs": [],
   "source": [
    "# make a box plot of temperature for the city you chose\n",
    "ax = sns.boxplot(x=TA_temp.AvgTemp_C)\n",
    "ax.set(xlabel=f'Average Daily Temperature in {city}')"
   ]
  },
  {
   "cell_type": "code",
   "execution_count": null,
   "metadata": {},
   "outputs": [],
   "source": [
    "# compare all the cities\n",
    "temp_df = temp_df.drop(temp_df[temp_df['AvgTemperature']<(-50)].index)\n",
    "temp_df['AvgTemp_C'] = (temp_df['AvgTemperature'] - 32)*(5/9)\n",
    "ax = sns.boxplot(x=temp_df.AvgTemp_C, y = temp_df.City)\n",
    "ax.set(xlabel='Average Daily Temperature')"
   ]
  },
  {
   "cell_type": "code",
   "execution_count": null,
   "metadata": {},
   "outputs": [],
   "source": [
    "# make a violin plot of the temperature\n",
    "ax = sns.violinplot(x=temp_df.AvgTemp_C, y = temp_df.City)\n",
    "ax.set(xlabel='Average Daily Temperature')"
   ]
  },
  {
   "cell_type": "code",
   "execution_count": null,
   "metadata": {},
   "outputs": [],
   "source": [
    "# make a histogram of the data for the city you chose\n",
    "ax = sns.histplot(x=TA_temp.AvgTemp_C)\n",
    "ax.set(xlabel=f'Average Daily Temperature in {city}')"
   ]
  },
  {
   "cell_type": "code",
   "execution_count": null,
   "metadata": {},
   "outputs": [],
   "source": [
    "# play around with the bin size for the histogram -- try more bins\n",
    "ax = sns.histplot(x=TA_temp.AvgTemp_C, bins=100)\n",
    "ax.set(xlabel='Average Daily Temperature')"
   ]
  },
  {
   "cell_type": "code",
   "execution_count": null,
   "metadata": {},
   "outputs": [],
   "source": [
    "# now fewer bins\n",
    "ax = sns.histplot(x=TA_temp.AvgTemp_C, bins=10)\n",
    "ax.set(xlabel='Average Daily Temperature')"
   ]
  },
  {
   "cell_type": "code",
   "execution_count": null,
   "metadata": {},
   "outputs": [],
   "source": [
    "# add kernel density estimator\n",
    "ax = sns.histplot(x=TA_temp.AvgTemp_C, bins=20, kde = True)\n",
    "ax.set(xlabel='Average Daily Temperature')"
   ]
  },
  {
   "cell_type": "code",
   "execution_count": null,
   "metadata": {},
   "outputs": [],
   "source": [
    "# how can we normalize the histogram data?\n",
    "ax = sns.histplot(x=TA_temp.AvgTemp_C, bins=20, kde = True, stat = \"density\")\n",
    "ax.set(xlabel='Average Daily Temperature')"
   ]
  },
  {
   "cell_type": "code",
   "execution_count": null,
   "metadata": {},
   "outputs": [],
   "source": [
    "# what's the difference between the \"density\" stat and \"probablity\" stat\n",
    "ax = sns.histplot(x=TA_temp.AvgTemp_C, bins=20, kde = True, stat = \"probability\")\n",
    "ax.set(xlabel='Average Daily Temperature')"
   ]
  },
  {
   "cell_type": "code",
   "execution_count": null,
   "metadata": {},
   "outputs": [],
   "source": [
    "# make a histogram of the data\n",
    "ax = sns.histplot(x=temp_df.AvgTemp_C, hue=temp_df.City)\n",
    "ax.set(xlabel='Average Daily Temperature')"
   ]
  },
  {
   "cell_type": "code",
   "execution_count": null,
   "metadata": {},
   "outputs": [],
   "source": [
    "# another type of histogram\n",
    "ax = sns.histplot(x=temp_df.AvgTemp_C, y=temp_df.City, hue = temp_df.City, legend = False)"
   ]
  },
  {
   "cell_type": "markdown",
   "metadata": {},
   "source": [
    "### Encoding categorical variables\n",
    "\n",
    "Sometimes, for reasons that will be clear on the HW, we'll want to encode our categorical variables so that they are numbers instead. \n",
    "\n",
    "There are many ways that we can achive this. \n",
    "\n",
    "Here will learn one, for more examples see: https://pbpython.com/categorical-encoding.html"
   ]
  },
  {
   "cell_type": "code",
   "execution_count": null,
   "metadata": {},
   "outputs": [],
   "source": [
    "# what are our cities again?\n",
    "temp_df.City.unique()"
   ]
  },
  {
   "cell_type": "code",
   "execution_count": null,
   "metadata": {},
   "outputs": [],
   "source": [
    "# dictionary for encoding cities (note: we can encode more than one variable at a time)\n",
    "cleanup_cities = {\"City\": {\"Lilongwe\": 1, \n",
    "                           \"Capetown\": 2,\n",
    "                           \"Tel Aviv\": 3,\n",
    "                           \"Amman\": 4,\n",
    "                           \"Beirut\": 5,\n",
    "                           \"Rochester\": 6}}"
   ]
  },
  {
   "cell_type": "code",
   "execution_count": null,
   "metadata": {},
   "outputs": [],
   "source": [
    "# new dataframe with encoded values\n",
    "temp_df_encoded = temp_df.replace(cleanup_cities)\n"
   ]
  },
  {
   "cell_type": "code",
   "execution_count": null,
   "metadata": {},
   "outputs": [],
   "source": [
    "# option 2 -- use Pandas\n",
    "\n",
    "# what are our data types?\n",
    "temp_df.dtypes\n"
   ]
  },
  {
   "cell_type": "code",
   "execution_count": null,
   "metadata": {},
   "outputs": [],
   "source": [
    "# assign city to be a categorical variable\n",
    "temp_df[\"City\"] = temp_df[\"City\"].astype('category')\n"
   ]
  },
  {
   "cell_type": "code",
   "execution_count": null,
   "metadata": {},
   "outputs": [],
   "source": [
    "# use codes to encode variable\n",
    "temp_df[\"City_encoded\"] = temp_df[\"City\"].cat.codes\n"
   ]
  },
  {
   "cell_type": "code",
   "execution_count": null,
   "metadata": {},
   "outputs": [],
   "source": []
  }
 ],
 "metadata": {
  "kernelspec": {
   "display_name": "Python 3",
   "language": "python",
   "name": "python3"
  },
  "language_info": {
   "codemirror_mode": {
    "name": "ipython",
    "version": 3
   },
   "file_extension": ".py",
   "mimetype": "text/x-python",
   "name": "python",
   "nbconvert_exporter": "python",
   "pygments_lexer": "ipython3",
   "version": "3.8.5"
  }
 },
 "nbformat": 4,
 "nbformat_minor": 4
}
