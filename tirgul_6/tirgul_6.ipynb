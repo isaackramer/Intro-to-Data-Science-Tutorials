{
 "cells": [
  {
   "cell_type": "markdown",
   "metadata": {},
   "source": [
    "# Dependence between variables \n",
    "\n",
    "1. Correlation and regression\n",
    "2. Linear regression -- OLS\n",
    "3. Logisitic regression"
   ]
  },
  {
   "cell_type": "markdown",
   "metadata": {},
   "source": [
    "# 1. Correlation and Regression\n",
    "\n",
    "* Pearson’s coefficient measures linear correlation (r).\n",
    "* Spearman coefficient compares the 'ranks' of data. \n",
    "* NumPy, SciPy, and Pandas all have functions that can be used to calculate these coefficients."
   ]
  },
  {
   "cell_type": "markdown",
   "metadata": {},
   "source": [
    "# Correlation in Numpy (Pearson's r)"
   ]
  },
  {
   "cell_type": "markdown",
   "metadata": {},
   "source": [
    "Required packages\n"
   ]
  },
  {
   "cell_type": "code",
   "execution_count": 1,
   "metadata": {},
   "outputs": [],
   "source": [
    "import numpy as np\n",
    "import seaborn as sns"
   ]
  },
  {
   "cell_type": "markdown",
   "metadata": {},
   "source": [
    "Let's make up some numbers\n"
   ]
  },
  {
   "cell_type": "code",
   "execution_count": 2,
   "metadata": {},
   "outputs": [],
   "source": [
    "mu, sigma = 0, 0.1 # mean and standard deviation\n",
    "x = np.random.normal(mu, sigma, 50)\n",
    "y = np.random.normal(mu, sigma, 50)\n",
    "z = np.random.normal(mu, sigma, 50)"
   ]
  },
  {
   "cell_type": "markdown",
   "metadata": {},
   "source": [
    "What does our data look like?\n"
   ]
  },
  {
   "cell_type": "code",
   "execution_count": 4,
   "metadata": {},
   "outputs": [
    {
     "data": {
      "text/plain": [
       "<matplotlib.axes._subplots.AxesSubplot at 0x7f8c7c6b9f10>"
      ]
     },
     "execution_count": 4,
     "metadata": {},
     "output_type": "execute_result"
    },
    {
     "data": {
      "image/png": "[encoded data removed]",
      "text/plain": [
       "<Figure size 432x288 with 1 Axes>"
      ]
     },
     "metadata": {
      "needs_background": "light"
     },
     "output_type": "display_data"
    }
   ],
   "source": [
    "sns.scatterplot(x=x, y=y)"
   ]
  },
  {
   "cell_type": "markdown",
   "metadata": {},
   "source": [
    "Use Numpy to get pearson's correlation between `x` and `y`"
   ]
  },
  {
   "cell_type": "code",
   "execution_count": 6,
   "metadata": {},
   "outputs": [
    {
     "data": {
      "text/plain": [
       "array([[ 1.        , -0.03895666],\n",
       "       [-0.03895666,  1.        ]])"
      ]
     },
     "execution_count": 6,
     "metadata": {},
     "output_type": "execute_result"
    }
   ],
   "source": [
    "np.corrcoef(x, y)"
   ]
  },
  {
   "cell_type": "markdown",
   "metadata": {},
   "source": [
    "### The result is a correlation matrix. Each cell in the table shows the correlation between two variables.\n",
    "\n",
    "* The values on the main diagonal of the correlation matrix (upper left and lower right) are equal to 1. These corresponds to the correlation coefficient for `x` and `x` and `y` and `y`, so they will always be equal to 1.\n",
    "\n",
    "* The values on the bottom left and top right show the pearson's correlation coefficient for `x` and `y`.\n",
    "\n",
    "\n"
   ]
  },
  {
   "cell_type": "markdown",
   "metadata": {},
   "source": [
    "We can do the same thing with more than two variables\n"
   ]
  },
  {
   "cell_type": "code",
   "execution_count": 8,
   "metadata": {},
   "outputs": [
    {
     "data": {
      "text/plain": [
       "array([[ 1.        , -0.03895666,  0.06914913],\n",
       "       [-0.03895666,  1.        ,  0.08466561],\n",
       "       [ 0.06914913,  0.08466561,  1.        ]])"
      ]
     },
     "execution_count": 8,
     "metadata": {},
     "output_type": "execute_result"
    }
   ],
   "source": [
    "np.corrcoef([x, y, z])"
   ]
  },
  {
   "cell_type": "markdown",
   "metadata": {},
   "source": [
    "# Correlation in SciPy (Pearson and Spearman)"
   ]
  },
  {
   "cell_type": "markdown",
   "metadata": {},
   "source": [
    "Import required packages\n"
   ]
  },
  {
   "cell_type": "code",
   "execution_count": 9,
   "metadata": {},
   "outputs": [],
   "source": [
    "import scipy.stats"
   ]
  },
  {
   "cell_type": "code",
   "execution_count": 10,
   "metadata": {},
   "outputs": [
    {
     "data": {
      "text/plain": [
       "(-0.038956655438741696, 0.7882376766337583)"
      ]
     },
     "execution_count": 10,
     "metadata": {},
     "output_type": "execute_result"
    }
   ],
   "source": [
    "# pearson\n",
    "scipy.stats.pearsonr(x, y)"
   ]
  },
  {
   "cell_type": "code",
   "execution_count": 11,
   "metadata": {},
   "outputs": [
    {
     "data": {
      "text/plain": [
       "SpearmanrResult(correlation=-0.024057623049219684, pvalue=0.8682873072255863)"
      ]
     },
     "execution_count": 11,
     "metadata": {},
     "output_type": "execute_result"
    }
   ],
   "source": [
    "# spearman\n",
    "scipy.stats.spearmanr(x, y)"
   ]
  },
  {
   "cell_type": "markdown",
   "metadata": {},
   "source": [
    "#### Note: these functions return both the correlation coefficient and the p-value"
   ]
  },
  {
   "cell_type": "markdown",
   "metadata": {},
   "source": [
    "# Correlation in Pandas\n",
    "\n",
    "### Time for some real data :)"
   ]
  },
  {
   "cell_type": "markdown",
   "metadata": {},
   "source": [
    "### Today's dataset: Birthweight\n",
    "\n",
    "This dataset contains information on new born babies and their parents. \n",
    "\n",
    "https://www.sheffield.ac.uk/mash/statistics/datasets"
   ]
  },
  {
   "cell_type": "markdown",
   "metadata": {},
   "source": [
    "Required packages\n"
   ]
  },
  {
   "cell_type": "code",
   "execution_count": 12,
   "metadata": {},
   "outputs": [],
   "source": [
    "import pandas as pd"
   ]
  },
  {
   "cell_type": "code",
   "execution_count": 13,
   "metadata": {},
   "outputs": [],
   "source": [
    "# import dataset\n",
    "file = \"./birthweight.csv\"\n",
    "df = pd.read_csv(file)"
   ]
  },
  {
   "cell_type": "code",
   "execution_count": 14,
   "metadata": {},
   "outputs": [
    {
     "data": {
      "text/html": [
       "<div>\n",
       "<style scoped>\n",
       "    .dataframe tbody tr th:only-of-type {\n",
       "        vertical-align: middle;\n",
       "    }\n",
       "\n",
       "    .dataframe tbody tr th {\n",
       "        vertical-align: top;\n",
       "    }\n",
       "\n",
       "    .dataframe thead th {\n",
       "        text-align: right;\n",
       "    }\n",
       "</style>\n",
       "<table border=\"1\" class=\"dataframe\">\n",
       "  <thead>\n",
       "    <tr style=\"text-align: right;\">\n",
       "      <th></th>\n",
       "      <th>Length</th>\n",
       "      <th>Birthweight</th>\n",
       "      <th>Headcirc</th>\n",
       "      <th>Gestation</th>\n",
       "      <th>smoker</th>\n",
       "      <th>mage</th>\n",
       "      <th>mnocig</th>\n",
       "      <th>mheight</th>\n",
       "      <th>mppwt</th>\n",
       "      <th>fage</th>\n",
       "      <th>fedyrs</th>\n",
       "      <th>fnocig</th>\n",
       "      <th>fheight</th>\n",
       "      <th>lowbwt</th>\n",
       "      <th>mage35</th>\n",
       "    </tr>\n",
       "  </thead>\n",
       "  <tbody>\n",
       "    <tr>\n",
       "      <th>0</th>\n",
       "      <td>56</td>\n",
       "      <td>4.55</td>\n",
       "      <td>34</td>\n",
       "      <td>44</td>\n",
       "      <td>0</td>\n",
       "      <td>20</td>\n",
       "      <td>0</td>\n",
       "      <td>162</td>\n",
       "      <td>57</td>\n",
       "      <td>23</td>\n",
       "      <td>10</td>\n",
       "      <td>35</td>\n",
       "      <td>179</td>\n",
       "      <td>0</td>\n",
       "      <td>0</td>\n",
       "    </tr>\n",
       "    <tr>\n",
       "      <th>1</th>\n",
       "      <td>53</td>\n",
       "      <td>4.32</td>\n",
       "      <td>36</td>\n",
       "      <td>40</td>\n",
       "      <td>0</td>\n",
       "      <td>19</td>\n",
       "      <td>0</td>\n",
       "      <td>171</td>\n",
       "      <td>62</td>\n",
       "      <td>19</td>\n",
       "      <td>12</td>\n",
       "      <td>0</td>\n",
       "      <td>183</td>\n",
       "      <td>0</td>\n",
       "      <td>0</td>\n",
       "    </tr>\n",
       "    <tr>\n",
       "      <th>2</th>\n",
       "      <td>58</td>\n",
       "      <td>4.10</td>\n",
       "      <td>39</td>\n",
       "      <td>41</td>\n",
       "      <td>0</td>\n",
       "      <td>35</td>\n",
       "      <td>0</td>\n",
       "      <td>172</td>\n",
       "      <td>58</td>\n",
       "      <td>31</td>\n",
       "      <td>16</td>\n",
       "      <td>25</td>\n",
       "      <td>185</td>\n",
       "      <td>0</td>\n",
       "      <td>1</td>\n",
       "    </tr>\n",
       "    <tr>\n",
       "      <th>3</th>\n",
       "      <td>53</td>\n",
       "      <td>4.07</td>\n",
       "      <td>38</td>\n",
       "      <td>44</td>\n",
       "      <td>0</td>\n",
       "      <td>20</td>\n",
       "      <td>0</td>\n",
       "      <td>174</td>\n",
       "      <td>68</td>\n",
       "      <td>26</td>\n",
       "      <td>14</td>\n",
       "      <td>25</td>\n",
       "      <td>189</td>\n",
       "      <td>0</td>\n",
       "      <td>0</td>\n",
       "    </tr>\n",
       "    <tr>\n",
       "      <th>4</th>\n",
       "      <td>54</td>\n",
       "      <td>3.94</td>\n",
       "      <td>37</td>\n",
       "      <td>42</td>\n",
       "      <td>0</td>\n",
       "      <td>24</td>\n",
       "      <td>0</td>\n",
       "      <td>175</td>\n",
       "      <td>66</td>\n",
       "      <td>30</td>\n",
       "      <td>12</td>\n",
       "      <td>0</td>\n",
       "      <td>184</td>\n",
       "      <td>0</td>\n",
       "      <td>0</td>\n",
       "    </tr>\n",
       "  </tbody>\n",
       "</table>\n",
       "</div>"
      ],
      "text/plain": [
       "   Length  Birthweight  Headcirc  Gestation  smoker  mage  mnocig  mheight  \\\n",
       "0      56         4.55        34         44       0    20       0      162   \n",
       "1      53         4.32        36         40       0    19       0      171   \n",
       "2      58         4.10        39         41       0    35       0      172   \n",
       "3      53         4.07        38         44       0    20       0      174   \n",
       "4      54         3.94        37         42       0    24       0      175   \n",
       "\n",
       "   mppwt  fage  fedyrs  fnocig  fheight  lowbwt  mage35  \n",
       "0     57    23      10      35      179       0       0  \n",
       "1     62    19      12       0      183       0       0  \n",
       "2     58    31      16      25      185       0       1  \n",
       "3     68    26      14      25      189       0       0  \n",
       "4     66    30      12       0      184       0       0  "
      ]
     },
     "execution_count": 14,
     "metadata": {},
     "output_type": "execute_result"
    }
   ],
   "source": [
    "df.head()"
   ]
  },
  {
   "cell_type": "markdown",
   "metadata": {},
   "source": [
    "### Is there any correlation between birthweight and head circumfrence?"
   ]
  },
  {
   "cell_type": "code",
   "execution_count": 15,
   "metadata": {},
   "outputs": [
    {
     "data": {
      "text/plain": [
       "<matplotlib.axes._subplots.AxesSubplot at 0x7f8c7c66cbb0>"
      ]
     },
     "execution_count": 15,
     "metadata": {},
     "output_type": "execute_result"
    },
    {
     "data": {
      "image/png": "[encoded data removed]",
      "text/plain": [
       "<Figure size 432x288 with 1 Axes>"
      ]
     },
     "metadata": {
      "needs_background": "light"
     },
     "output_type": "display_data"
    }
   ],
   "source": [
    "# First, let's visualize the data\n",
    "sns.scatterplot(x=df.Birthweight, y=df.Headcirc)"
   ]
  },
  {
   "cell_type": "code",
   "execution_count": 16,
   "metadata": {},
   "outputs": [
    {
     "data": {
      "text/plain": [
       "0.6846156184774087"
      ]
     },
     "execution_count": 16,
     "metadata": {},
     "output_type": "execute_result"
    }
   ],
   "source": [
    "df.Birthweight.corr(df.Headcirc)"
   ]
  },
  {
   "cell_type": "markdown",
   "metadata": {},
   "source": [
    "### There are lots of ways to calculate correlation in Pandas..."
   ]
  },
  {
   "cell_type": "code",
   "execution_count": 17,
   "metadata": {},
   "outputs": [
    {
     "data": {
      "text/plain": [
       "0.6846156184774087"
      ]
     },
     "execution_count": 17,
     "metadata": {},
     "output_type": "execute_result"
    }
   ],
   "source": [
    "df.Birthweight.corr(df.Headcirc,\n",
    "                    method='pearson')"
   ]
  },
  {
   "cell_type": "code",
   "execution_count": 18,
   "metadata": {},
   "outputs": [
    {
     "data": {
      "text/plain": [
       "0.6772599775176383"
      ]
     },
     "execution_count": 18,
     "metadata": {},
     "output_type": "execute_result"
    }
   ],
   "source": [
    "df.Birthweight.corr(df.Headcirc,\n",
    "                    method='spearman')"
   ]
  },
  {
   "cell_type": "markdown",
   "metadata": {},
   "source": [
    "### We can also find the correlation between all the variables in our dataframe at once"
   ]
  },
  {
   "cell_type": "code",
   "execution_count": 19,
   "metadata": {
    "scrolled": true
   },
   "outputs": [
    {
     "data": {
      "text/html": [
       "<div>\n",
       "<style scoped>\n",
       "    .dataframe tbody tr th:only-of-type {\n",
       "        vertical-align: middle;\n",
       "    }\n",
       "\n",
       "    .dataframe tbody tr th {\n",
       "        vertical-align: top;\n",
       "    }\n",
       "\n",
       "    .dataframe thead th {\n",
       "        text-align: right;\n",
       "    }\n",
       "</style>\n",
       "<table border=\"1\" class=\"dataframe\">\n",
       "  <thead>\n",
       "    <tr style=\"text-align: right;\">\n",
       "      <th></th>\n",
       "      <th>Length</th>\n",
       "      <th>Birthweight</th>\n",
       "      <th>Headcirc</th>\n",
       "      <th>Gestation</th>\n",
       "      <th>smoker</th>\n",
       "      <th>mage</th>\n",
       "      <th>mnocig</th>\n",
       "      <th>mheight</th>\n",
       "      <th>mppwt</th>\n",
       "      <th>fage</th>\n",
       "      <th>fedyrs</th>\n",
       "      <th>fnocig</th>\n",
       "      <th>fheight</th>\n",
       "      <th>lowbwt</th>\n",
       "      <th>mage35</th>\n",
       "    </tr>\n",
       "  </thead>\n",
       "  <tbody>\n",
       "    <tr>\n",
       "      <th>Length</th>\n",
       "      <td>1.000000</td>\n",
       "      <td>0.726833</td>\n",
       "      <td>0.563172</td>\n",
       "      <td>0.705111</td>\n",
       "      <td>-1.534062e-01</td>\n",
       "      <td>0.075268</td>\n",
       "      <td>-0.039843</td>\n",
       "      <td>0.484992</td>\n",
       "      <td>3.981974e-01</td>\n",
       "      <td>0.137184</td>\n",
       "      <td>0.079485</td>\n",
       "      <td>0.008800</td>\n",
       "      <td>0.208358</td>\n",
       "      <td>-0.609928</td>\n",
       "      <td>0.130502</td>\n",
       "    </tr>\n",
       "    <tr>\n",
       "      <th>Birthweight</th>\n",
       "      <td>0.726833</td>\n",
       "      <td>1.000000</td>\n",
       "      <td>0.684616</td>\n",
       "      <td>0.708303</td>\n",
       "      <td>-3.142339e-01</td>\n",
       "      <td>0.000173</td>\n",
       "      <td>-0.152335</td>\n",
       "      <td>0.363055</td>\n",
       "      <td>4.008856e-01</td>\n",
       "      <td>0.175710</td>\n",
       "      <td>0.071045</td>\n",
       "      <td>-0.093136</td>\n",
       "      <td>0.031022</td>\n",
       "      <td>-0.651964</td>\n",
       "      <td>-0.108947</td>\n",
       "    </tr>\n",
       "    <tr>\n",
       "      <th>Headcirc</th>\n",
       "      <td>0.563172</td>\n",
       "      <td>0.684616</td>\n",
       "      <td>1.000000</td>\n",
       "      <td>0.404635</td>\n",
       "      <td>-1.828719e-01</td>\n",
       "      <td>0.145842</td>\n",
       "      <td>-0.132988</td>\n",
       "      <td>0.337047</td>\n",
       "      <td>3.028541e-01</td>\n",
       "      <td>0.301151</td>\n",
       "      <td>0.123892</td>\n",
       "      <td>-0.046837</td>\n",
       "      <td>0.041509</td>\n",
       "      <td>-0.446849</td>\n",
       "      <td>0.055386</td>\n",
       "    </tr>\n",
       "    <tr>\n",
       "      <th>Gestation</th>\n",
       "      <td>0.705111</td>\n",
       "      <td>0.708303</td>\n",
       "      <td>0.404635</td>\n",
       "      <td>1.000000</td>\n",
       "      <td>-9.474608e-02</td>\n",
       "      <td>0.010778</td>\n",
       "      <td>0.043195</td>\n",
       "      <td>0.210503</td>\n",
       "      <td>2.550824e-01</td>\n",
       "      <td>0.142175</td>\n",
       "      <td>0.130987</td>\n",
       "      <td>-0.113831</td>\n",
       "      <td>0.207597</td>\n",
       "      <td>-0.602935</td>\n",
       "      <td>0.007395</td>\n",
       "    </tr>\n",
       "    <tr>\n",
       "      <th>smoker</th>\n",
       "      <td>-0.153406</td>\n",
       "      <td>-0.314234</td>\n",
       "      <td>-0.182872</td>\n",
       "      <td>-0.094746</td>\n",
       "      <td>1.000000e+00</td>\n",
       "      <td>0.212479</td>\n",
       "      <td>0.727218</td>\n",
       "      <td>0.000353</td>\n",
       "      <td>-1.786041e-17</td>\n",
       "      <td>0.197501</td>\n",
       "      <td>-0.014891</td>\n",
       "      <td>0.417633</td>\n",
       "      <td>0.110633</td>\n",
       "      <td>0.253012</td>\n",
       "      <td>0.146938</td>\n",
       "    </tr>\n",
       "    <tr>\n",
       "      <th>mage</th>\n",
       "      <td>0.075268</td>\n",
       "      <td>0.000173</td>\n",
       "      <td>0.145842</td>\n",
       "      <td>0.010778</td>\n",
       "      <td>2.124788e-01</td>\n",
       "      <td>1.000000</td>\n",
       "      <td>0.340294</td>\n",
       "      <td>0.059956</td>\n",
       "      <td>2.741677e-01</td>\n",
       "      <td>0.806584</td>\n",
       "      <td>0.441683</td>\n",
       "      <td>0.090927</td>\n",
       "      <td>-0.199547</td>\n",
       "      <td>-0.076394</td>\n",
       "      <td>0.692664</td>\n",
       "    </tr>\n",
       "    <tr>\n",
       "      <th>mnocig</th>\n",
       "      <td>-0.039843</td>\n",
       "      <td>-0.152335</td>\n",
       "      <td>-0.132988</td>\n",
       "      <td>0.043195</td>\n",
       "      <td>7.272181e-01</td>\n",
       "      <td>0.340294</td>\n",
       "      <td>1.000000</td>\n",
       "      <td>0.126439</td>\n",
       "      <td>1.489446e-01</td>\n",
       "      <td>0.248425</td>\n",
       "      <td>0.198526</td>\n",
       "      <td>0.257307</td>\n",
       "      <td>0.020672</td>\n",
       "      <td>0.035384</td>\n",
       "      <td>0.290574</td>\n",
       "    </tr>\n",
       "    <tr>\n",
       "      <th>mheight</th>\n",
       "      <td>0.484992</td>\n",
       "      <td>0.363055</td>\n",
       "      <td>0.337047</td>\n",
       "      <td>0.210503</td>\n",
       "      <td>3.532676e-04</td>\n",
       "      <td>0.059956</td>\n",
       "      <td>0.126439</td>\n",
       "      <td>1.000000</td>\n",
       "      <td>6.806217e-01</td>\n",
       "      <td>-0.079870</td>\n",
       "      <td>0.035297</td>\n",
       "      <td>0.048398</td>\n",
       "      <td>0.274338</td>\n",
       "      <td>-0.198151</td>\n",
       "      <td>0.116002</td>\n",
       "    </tr>\n",
       "    <tr>\n",
       "      <th>mppwt</th>\n",
       "      <td>0.398197</td>\n",
       "      <td>0.400886</td>\n",
       "      <td>0.302854</td>\n",
       "      <td>0.255082</td>\n",
       "      <td>-1.786041e-17</td>\n",
       "      <td>0.274168</td>\n",
       "      <td>0.148945</td>\n",
       "      <td>0.680622</td>\n",
       "      <td>1.000000e+00</td>\n",
       "      <td>0.255706</td>\n",
       "      <td>0.180374</td>\n",
       "      <td>0.057163</td>\n",
       "      <td>0.092983</td>\n",
       "      <td>-0.353974</td>\n",
       "      <td>0.136853</td>\n",
       "    </tr>\n",
       "    <tr>\n",
       "      <th>fage</th>\n",
       "      <td>0.137184</td>\n",
       "      <td>0.175710</td>\n",
       "      <td>0.301151</td>\n",
       "      <td>0.142175</td>\n",
       "      <td>1.975014e-01</td>\n",
       "      <td>0.806584</td>\n",
       "      <td>0.248425</td>\n",
       "      <td>-0.079870</td>\n",
       "      <td>2.557058e-01</td>\n",
       "      <td>1.000000</td>\n",
       "      <td>0.300471</td>\n",
       "      <td>0.135862</td>\n",
       "      <td>-0.269377</td>\n",
       "      <td>-0.245095</td>\n",
       "      <td>0.351405</td>\n",
       "    </tr>\n",
       "    <tr>\n",
       "      <th>fedyrs</th>\n",
       "      <td>0.079485</td>\n",
       "      <td>0.071045</td>\n",
       "      <td>0.123892</td>\n",
       "      <td>0.130987</td>\n",
       "      <td>-1.489058e-02</td>\n",
       "      <td>0.441683</td>\n",
       "      <td>0.198526</td>\n",
       "      <td>0.035297</td>\n",
       "      <td>1.803741e-01</td>\n",
       "      <td>0.300471</td>\n",
       "      <td>1.000000</td>\n",
       "      <td>-0.263103</td>\n",
       "      <td>0.017798</td>\n",
       "      <td>-0.191273</td>\n",
       "      <td>0.278682</td>\n",
       "    </tr>\n",
       "    <tr>\n",
       "      <th>fnocig</th>\n",
       "      <td>0.008800</td>\n",
       "      <td>-0.093136</td>\n",
       "      <td>-0.046837</td>\n",
       "      <td>-0.113831</td>\n",
       "      <td>4.176330e-01</td>\n",
       "      <td>0.090927</td>\n",
       "      <td>0.257307</td>\n",
       "      <td>0.048398</td>\n",
       "      <td>5.716254e-02</td>\n",
       "      <td>0.135862</td>\n",
       "      <td>-0.263103</td>\n",
       "      <td>1.000000</td>\n",
       "      <td>0.329364</td>\n",
       "      <td>0.266013</td>\n",
       "      <td>-0.088989</td>\n",
       "    </tr>\n",
       "    <tr>\n",
       "      <th>fheight</th>\n",
       "      <td>0.208358</td>\n",
       "      <td>0.031022</td>\n",
       "      <td>0.041509</td>\n",
       "      <td>0.207597</td>\n",
       "      <td>1.106327e-01</td>\n",
       "      <td>-0.199547</td>\n",
       "      <td>0.020672</td>\n",
       "      <td>0.274338</td>\n",
       "      <td>9.298347e-02</td>\n",
       "      <td>-0.269377</td>\n",
       "      <td>0.017798</td>\n",
       "      <td>0.329364</td>\n",
       "      <td>1.000000</td>\n",
       "      <td>0.098688</td>\n",
       "      <td>-0.188230</td>\n",
       "    </tr>\n",
       "    <tr>\n",
       "      <th>lowbwt</th>\n",
       "      <td>-0.609928</td>\n",
       "      <td>-0.651964</td>\n",
       "      <td>-0.446849</td>\n",
       "      <td>-0.602935</td>\n",
       "      <td>2.530122e-01</td>\n",
       "      <td>-0.076394</td>\n",
       "      <td>0.035384</td>\n",
       "      <td>-0.198151</td>\n",
       "      <td>-3.539738e-01</td>\n",
       "      <td>-0.245095</td>\n",
       "      <td>-0.191273</td>\n",
       "      <td>0.266013</td>\n",
       "      <td>0.098688</td>\n",
       "      <td>1.000000</td>\n",
       "      <td>0.099340</td>\n",
       "    </tr>\n",
       "    <tr>\n",
       "      <th>mage35</th>\n",
       "      <td>0.130502</td>\n",
       "      <td>-0.108947</td>\n",
       "      <td>0.055386</td>\n",
       "      <td>0.007395</td>\n",
       "      <td>1.469385e-01</td>\n",
       "      <td>0.692664</td>\n",
       "      <td>0.290574</td>\n",
       "      <td>0.116002</td>\n",
       "      <td>1.368534e-01</td>\n",
       "      <td>0.351405</td>\n",
       "      <td>0.278682</td>\n",
       "      <td>-0.088989</td>\n",
       "      <td>-0.188230</td>\n",
       "      <td>0.099340</td>\n",
       "      <td>1.000000</td>\n",
       "    </tr>\n",
       "  </tbody>\n",
       "</table>\n",
       "</div>"
      ],
      "text/plain": [
       "               Length  Birthweight  Headcirc  Gestation        smoker  \\\n",
       "Length       1.000000     0.726833  0.563172   0.705111 -1.534062e-01   \n",
       "Birthweight  0.726833     1.000000  0.684616   0.708303 -3.142339e-01   \n",
       "Headcirc     0.563172     0.684616  1.000000   0.404635 -1.828719e-01   \n",
       "Gestation    0.705111     0.708303  0.404635   1.000000 -9.474608e-02   \n",
       "smoker      -0.153406    -0.314234 -0.182872  -0.094746  1.000000e+00   \n",
       "mage         0.075268     0.000173  0.145842   0.010778  2.124788e-01   \n",
       "mnocig      -0.039843    -0.152335 -0.132988   0.043195  7.272181e-01   \n",
       "mheight      0.484992     0.363055  0.337047   0.210503  3.532676e-04   \n",
       "mppwt        0.398197     0.400886  0.302854   0.255082 -1.786041e-17   \n",
       "fage         0.137184     0.175710  0.301151   0.142175  1.975014e-01   \n",
       "fedyrs       0.079485     0.071045  0.123892   0.130987 -1.489058e-02   \n",
       "fnocig       0.008800    -0.093136 -0.046837  -0.113831  4.176330e-01   \n",
       "fheight      0.208358     0.031022  0.041509   0.207597  1.106327e-01   \n",
       "lowbwt      -0.609928    -0.651964 -0.446849  -0.602935  2.530122e-01   \n",
       "mage35       0.130502    -0.108947  0.055386   0.007395  1.469385e-01   \n",
       "\n",
       "                 mage    mnocig   mheight         mppwt      fage    fedyrs  \\\n",
       "Length       0.075268 -0.039843  0.484992  3.981974e-01  0.137184  0.079485   \n",
       "Birthweight  0.000173 -0.152335  0.363055  4.008856e-01  0.175710  0.071045   \n",
       "Headcirc     0.145842 -0.132988  0.337047  3.028541e-01  0.301151  0.123892   \n",
       "Gestation    0.010778  0.043195  0.210503  2.550824e-01  0.142175  0.130987   \n",
       "smoker       0.212479  0.727218  0.000353 -1.786041e-17  0.197501 -0.014891   \n",
       "mage         1.000000  0.340294  0.059956  2.741677e-01  0.806584  0.441683   \n",
       "mnocig       0.340294  1.000000  0.126439  1.489446e-01  0.248425  0.198526   \n",
       "mheight      0.059956  0.126439  1.000000  6.806217e-01 -0.079870  0.035297   \n",
       "mppwt        0.274168  0.148945  0.680622  1.000000e+00  0.255706  0.180374   \n",
       "fage         0.806584  0.248425 -0.079870  2.557058e-01  1.000000  0.300471   \n",
       "fedyrs       0.441683  0.198526  0.035297  1.803741e-01  0.300471  1.000000   \n",
       "fnocig       0.090927  0.257307  0.048398  5.716254e-02  0.135862 -0.263103   \n",
       "fheight     -0.199547  0.020672  0.274338  9.298347e-02 -0.269377  0.017798   \n",
       "lowbwt      -0.076394  0.035384 -0.198151 -3.539738e-01 -0.245095 -0.191273   \n",
       "mage35       0.692664  0.290574  0.116002  1.368534e-01  0.351405  0.278682   \n",
       "\n",
       "               fnocig   fheight    lowbwt    mage35  \n",
       "Length       0.008800  0.208358 -0.609928  0.130502  \n",
       "Birthweight -0.093136  0.031022 -0.651964 -0.108947  \n",
       "Headcirc    -0.046837  0.041509 -0.446849  0.055386  \n",
       "Gestation   -0.113831  0.207597 -0.602935  0.007395  \n",
       "smoker       0.417633  0.110633  0.253012  0.146938  \n",
       "mage         0.090927 -0.199547 -0.076394  0.692664  \n",
       "mnocig       0.257307  0.020672  0.035384  0.290574  \n",
       "mheight      0.048398  0.274338 -0.198151  0.116002  \n",
       "mppwt        0.057163  0.092983 -0.353974  0.136853  \n",
       "fage         0.135862 -0.269377 -0.245095  0.351405  \n",
       "fedyrs      -0.263103  0.017798 -0.191273  0.278682  \n",
       "fnocig       1.000000  0.329364  0.266013 -0.088989  \n",
       "fheight      0.329364  1.000000  0.098688 -0.188230  \n",
       "lowbwt       0.266013  0.098688  1.000000  0.099340  \n",
       "mage35      -0.088989 -0.188230  0.099340  1.000000  "
      ]
     },
     "execution_count": 19,
     "metadata": {},
     "output_type": "execute_result"
    }
   ],
   "source": [
    "pearsoncorr = df.corr(method ='pearson')\n",
    "pearsoncorr"
   ]
  },
  {
   "cell_type": "markdown",
   "metadata": {},
   "source": [
    "### That isn't so helpful... we can also make a heatmap to display the data visually"
   ]
  },
  {
   "cell_type": "code",
   "execution_count": 20,
   "metadata": {},
   "outputs": [
    {
     "data": {
      "text/plain": [
       "<matplotlib.axes._subplots.AxesSubplot at 0x7f8c7d8474c0>"
      ]
     },
     "execution_count": 20,
     "metadata": {},
     "output_type": "execute_result"
    },
    {
     "data": {
      "image/png": "[encoded data removed]",
      "text/plain": [
       "<Figure size 432x288 with 2 Axes>"
      ]
     },
     "metadata": {
      "needs_background": "light"
     },
     "output_type": "display_data"
    }
   ],
   "source": [
    "sns.heatmap(pearsoncorr,\n",
    "           cmap='RdBu_r')"
   ]
  },
  {
   "cell_type": "markdown",
   "metadata": {},
   "source": [
    "# Linear Regression \n",
    "\n",
    "In statistics, linear regression is a linear approach to modeling the relationship between a scalar response and one or more explanatory variables (also known as dependent and independent variables).\n",
    "\n",
    "https://en.wikipedia.org/wiki/Linear_regression\n",
    "\n",
    "We have a lot of options for for studying linear regression"
   ]
  },
  {
   "cell_type": "markdown",
   "metadata": {},
   "source": [
    "### Scipy.stats"
   ]
  },
  {
   "cell_type": "code",
   "execution_count": 21,
   "metadata": {},
   "outputs": [],
   "source": [
    "result = scipy.stats.linregress(df.Birthweight,\n",
    "                                df.Headcirc)"
   ]
  },
  {
   "cell_type": "code",
   "execution_count": 22,
   "metadata": {},
   "outputs": [
    {
     "name": "stdout",
     "output_type": "stream",
     "text": [
      "LinregressResult(slope=2.720563928236349, intercept=25.58239845298082, rvalue=0.6846156184774087, pvalue=5.734797978444235e-07, stderr=0.45798646115832675)\n"
     ]
    }
   ],
   "source": [
    "print(result)"
   ]
  },
  {
   "cell_type": "markdown",
   "metadata": {},
   "source": [
    "A reminder of what the data look like..."
   ]
  },
  {
   "cell_type": "code",
   "execution_count": 35,
   "metadata": {},
   "outputs": [
    {
     "data": {
      "text/plain": [
       "<matplotlib.axes._subplots.AxesSubplot at 0x7f8c7e13d430>"
      ]
     },
     "execution_count": 35,
     "metadata": {},
     "output_type": "execute_result"
    },
    {
     "data": {
      "image/png": "[encoded data removed]",
      "text/plain": [
       "<Figure size 432x288 with 1 Axes>"
      ]
     },
     "metadata": {
      "needs_background": "light"
     },
     "output_type": "display_data"
    }
   ],
   "source": [
    "sns.scatterplot(x=df.Birthweight, y=df.Headcirc)"
   ]
  },
  {
   "cell_type": "code",
   "execution_count": 23,
   "metadata": {},
   "outputs": [
    {
     "data": {
      "text/plain": [
       "2.720563928236349"
      ]
     },
     "execution_count": 23,
     "metadata": {},
     "output_type": "execute_result"
    }
   ],
   "source": [
    "result.slope"
   ]
  },
  {
   "cell_type": "code",
   "execution_count": 24,
   "metadata": {},
   "outputs": [
    {
     "data": {
      "text/plain": [
       "25.58239845298082"
      ]
     },
     "execution_count": 24,
     "metadata": {},
     "output_type": "execute_result"
    }
   ],
   "source": [
    "result.intercept"
   ]
  },
  {
   "cell_type": "markdown",
   "metadata": {},
   "source": [
    "### Using sklearn"
   ]
  },
  {
   "cell_type": "code",
   "execution_count": 37,
   "metadata": {},
   "outputs": [],
   "source": [
    "from sklearn import linear_model"
   ]
  },
  {
   "cell_type": "code",
   "execution_count": 38,
   "metadata": {},
   "outputs": [
    {
     "name": "stdout",
     "output_type": "stream",
     "text": [
      "The linear model is: Y = 25.582 + 2.7206X\n"
     ]
    }
   ],
   "source": [
    "my_model = linear_model.LinearRegression()\n",
    "results = my_model.fit(df[['Birthweight']], df[['Headcirc']])\n",
    "print(\"The linear model is: Y = {:.5} + {:.5}X\".format(results.intercept_[0],\n",
    "                                                       results.coef_[0][0]))"
   ]
  },
  {
   "cell_type": "code",
   "execution_count": 39,
   "metadata": {},
   "outputs": [],
   "source": [
    "# the results are the same, but the sklearn package has some other features\n",
    "predictions = results.predict(df[['Birthweight']])"
   ]
  },
  {
   "cell_type": "code",
   "execution_count": 51,
   "metadata": {},
   "outputs": [
    {
     "data": {
      "text/plain": [
       "[<matplotlib.lines.Line2D at 0x7f8c7f5017f0>]"
      ]
     },
     "execution_count": 51,
     "metadata": {},
     "output_type": "execute_result"
    },
    {
     "data": {
      "image/png": "[encoded data removed]",
      "text/plain": [
       "<Figure size 432x288 with 1 Axes>"
      ]
     },
     "metadata": {
      "needs_background": "light"
     },
     "output_type": "display_data"
    }
   ],
   "source": [
    "# we can add the predicted values to the original plot\n",
    "ax = sns.scatterplot(x=df.Birthweight, \n",
    "                     y=df.Headcirc,\n",
    "                     color=\"0.0\")\n",
    "ax.plot(df[['Birthweight']],\n",
    "        predictions,\n",
    "        color=\"b\")"
   ]
  },
  {
   "cell_type": "markdown",
   "metadata": {},
   "source": [
    "# Hypothesis testing\n",
    "\n",
    "* Null hypothesis 1: The actual intercept is equal to zero\n",
    "* Null hypothesis 2: The actual slope is equal to zero"
   ]
  },
  {
   "cell_type": "markdown",
   "metadata": {},
   "source": [
    "Using the `statsmodels.api` package"
   ]
  },
  {
   "cell_type": "code",
   "execution_count": 53,
   "metadata": {},
   "outputs": [],
   "source": [
    "import statsmodels.api as sm"
   ]
  },
  {
   "cell_type": "markdown",
   "metadata": {},
   "source": [
    "Set up the model"
   ]
  },
  {
   "cell_type": "code",
   "execution_count": 27,
   "metadata": {},
   "outputs": [
    {
     "name": "stdout",
     "output_type": "stream",
     "text": [
      "                            OLS Regression Results                            \n",
      "==============================================================================\n",
      "Dep. Variable:               Headcirc   R-squared:                       0.469\n",
      "Model:                            OLS   Adj. R-squared:                  0.455\n",
      "Method:                 Least Squares   F-statistic:                     35.29\n",
      "Date:                Sun, 16 May 2021   Prob (F-statistic):           5.73e-07\n",
      "Time:                        21:35:53   Log-Likelihood:                -82.574\n",
      "No. Observations:                  42   AIC:                             169.1\n",
      "Df Residuals:                      40   BIC:                             172.6\n",
      "Df Model:                           1                                         \n",
      "Covariance Type:            nonrobust                                         \n",
      "===============================================================================\n",
      "                  coef    std err          t      P>|t|      [0.025      0.975]\n",
      "-------------------------------------------------------------------------------\n",
      "const          25.5824      1.542     16.594      0.000      22.467      28.698\n",
      "Birthweight     2.7206      0.458      5.940      0.000       1.795       3.646\n",
      "==============================================================================\n",
      "Omnibus:                        1.089   Durbin-Watson:                   2.132\n",
      "Prob(Omnibus):                  0.580   Jarque-Bera (JB):                1.007\n",
      "Skew:                          -0.193   Prob(JB):                        0.604\n",
      "Kurtosis:                       2.347   Cond. No.                         20.6\n",
      "==============================================================================\n",
      "\n",
      "Notes:\n",
      "[1] Standard Errors assume that the covariance matrix of the errors is correctly specified.\n"
     ]
    }
   ],
   "source": [
    "X = sm.add_constant(df.Birthweight)\n",
    "Y = df.Headcirc\n",
    "model = sm.OLS(Y, X)\n",
    "results = model.fit()\n",
    "print(results.summary())"
   ]
  },
  {
   "cell_type": "markdown",
   "metadata": {},
   "source": [
    "#### The P-value is the answer to the question \"how likely is it that we’d get a test statistic t* as extreme as we did if the null hypothesis were true?\n",
    "\n",
    "Does this output correspond to a one-tailed or two-tailed test?\n",
    "\n",
    "If we want to test whether the slope is different from 0, we need a two-sided test.\n",
    "\n",
    "If we want to test a specific direction, we can use a one-sided test. To do this, we need to divide the p-value in the table above in half.\n",
    "\n",
    "Read more: https://stats.idre.ucla.edu/other/mult-pkg/faq/general/faq-what-are-the-differences-between-one-tailed-and-two-tailed-tests/"
   ]
  }
 ],
 "metadata": {
  "kernelspec": {
   "display_name": "Python 3",
   "language": "python",
   "name": "python3"
  },
  "language_info": {
   "codemirror_mode": {
    "name": "ipython",
    "version": 3
   },
   "file_extension": ".py",
   "mimetype": "text/x-python",
   "name": "python",
   "nbconvert_exporter": "python",
   "pygments_lexer": "ipython3",
   "version": "3.7.6"
  }
 },
 "nbformat": 4,
 "nbformat_minor": 4
}
